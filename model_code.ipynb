{
 "cells": [
  {
   "cell_type": "markdown",
   "metadata": {},
   "source": [
    "## Modeling Data\n",
    "\n",
    "- Import libraries\n",
    "- create funciton to model data\n",
    "- store data in df to compare metrics easily\n",
    "- further stats \n",
    "- create visual"
   ]
  },
  {
   "cell_type": "code",
   "execution_count": 192,
   "metadata": {},
   "outputs": [],
   "source": [
    "# import libraries\n",
    "%matplotlib inline\n",
    "import pandas as pd\n",
    "import numpy as np\n",
    "import mglearn\n",
    "import matplotlib.pyplot as plt\n",
    "from sklearn.pipeline import Pipeline\n",
    "from sklearn.metrics import confusion_matrix\n",
    "from sklearn.neighbors import KNeighborsClassifier\n",
    "from sklearn.tree import DecisionTreeClassifier\n",
    "from sklearn.ensemble import RandomForestClassifier, BaggingClassifier\n",
    "from sklearn.model_selection import train_test_split, GridSearchCV\n",
    "from sklearn.linear_model import LogisticRegression\n",
    "from sklearn.naive_bayes import MultinomialNB\n",
    "from sklearn.feature_extraction.text import CountVectorizer, TfidfVectorizer"
   ]
  },
  {
   "cell_type": "code",
   "execution_count": 48,
   "metadata": {},
   "outputs": [],
   "source": [
    "import warnings\n",
    "warnings.filterwarnings('ignore')"
   ]
  },
  {
   "cell_type": "code",
   "execution_count": 193,
   "metadata": {
    "scrolled": true
   },
   "outputs": [],
   "source": [
    "# load in dictionary and assign numbers to categories\n",
    "df = pd.read_csv('./data/final_df.csv', index_col =0)"
   ]
  },
  {
   "cell_type": "code",
   "execution_count": 194,
   "metadata": {
    "scrolled": true
   },
   "outputs": [
    {
     "data": {
      "text/plain": [
       "title               0\n",
       "cat_nums            0\n",
       "combined            0\n",
       "binary_text         0\n",
       "stemmed_title       0\n",
       "stemmed_combined    0\n",
       "dtype: int64"
      ]
     },
     "execution_count": 194,
     "metadata": {},
     "output_type": "execute_result"
    }
   ],
   "source": [
    "df.isnull().sum()"
   ]
  },
  {
   "cell_type": "code",
   "execution_count": 247,
   "metadata": {},
   "outputs": [],
   "source": [
    "# instaciate transofrmers with stop words left out\n",
    "details = []\n",
    "transformers = [TfidfVectorizer(stop_words= 'english'), CountVectorizer(stop_words= 'english')]"
   ]
  },
  {
   "cell_type": "code",
   "execution_count": 196,
   "metadata": {},
   "outputs": [],
   "source": [
    "# function that models data and outputs relvant metrics\n",
    "def model_gs(keyword, X, y, model, transformer_list, param):\n",
    "    X_train, X_test, y_train, y_test = train_test_split(X,y,\n",
    "                                                   random_state =25,\n",
    "                                                        stratify = y)\n",
    "    # if model does not require data transormation\n",
    "    if transformer_list == []:\n",
    "        grid = GridSearchCV(model, param_grid=param, cv=5)\n",
    "        grid.fit(X_train, y_train)\n",
    "        details.append({\n",
    "            'details': keyword,\n",
    "            'model': model,\n",
    "            'transformer': transformer,\n",
    "            'accuracy_train': grid.score(X_train, y_train),\n",
    "            'accuracy_test' :grid.score(X_test, y_test),\n",
    "            'best_est': grid.best_estimator_\n",
    "        })\n",
    "   \n",
    "    # for models that need transformation \n",
    "    else:\n",
    "        for transformer in transformer_list:\n",
    "            # instantiate pipeline\n",
    "            pipe = Pipeline([\n",
    "                ('trans',transformer),\n",
    "                ('model', model)\n",
    "                 ])\n",
    "            \n",
    "            # gridsearch over relevant parameters\n",
    "            grid = GridSearchCV(pipe, param_grid=param, cv=5)\n",
    "            grid.fit(X_train, y_train)\n",
    "            \n",
    "            #store score on test / train and best estimators\n",
    "            details.append({\n",
    "                'details': keyword,\n",
    "                'model': model,\n",
    "                'transformer': transformer,\n",
    "                'accuracy_train': grid.score(X_train, y_train),\n",
    "                'accuracy test' :grid.score(X_test, y_test),\n",
    "                'best_est': grid.best_estimator_\n",
    "            })\n",
    "    return"
   ]
  },
  {
   "cell_type": "code",
   "execution_count": 239,
   "metadata": {},
   "outputs": [],
   "source": [
    "# Logistic Regresion\n",
    "X = df['title']\n",
    "y = df['cat_nums']\n",
    "log_params = {\n",
    "        'trans__max_features': [5000,10000,14000],\n",
    "        'trans__ngram_range' : [(1,1),(1,2),(1,3)],\n",
    "        'model__C' : [.1,1,10]\n",
    "        }\n",
    "model_gs('logreg_title', X,y, LogisticRegression() , transformers, log_params)"
   ]
  },
  {
   "cell_type": "code",
   "execution_count": 237,
   "metadata": {},
   "outputs": [
    {
     "data": {
      "text/html": [
       "<div>\n",
       "<style scoped>\n",
       "    .dataframe tbody tr th:only-of-type {\n",
       "        vertical-align: middle;\n",
       "    }\n",
       "\n",
       "    .dataframe tbody tr th {\n",
       "        vertical-align: top;\n",
       "    }\n",
       "\n",
       "    .dataframe thead th {\n",
       "        text-align: right;\n",
       "    }\n",
       "</style>\n",
       "<table border=\"1\" class=\"dataframe\">\n",
       "  <thead>\n",
       "    <tr style=\"text-align: right;\">\n",
       "      <th></th>\n",
       "      <th>title</th>\n",
       "      <th>cat_nums</th>\n",
       "      <th>combined</th>\n",
       "      <th>binary_text</th>\n",
       "      <th>stemmed_title</th>\n",
       "      <th>stemmed_combined</th>\n",
       "    </tr>\n",
       "  </thead>\n",
       "  <tbody>\n",
       "    <tr>\n",
       "      <th>0</th>\n",
       "      <td>George Popadopoulos Judiciary Committee Transc...</td>\n",
       "      <td>0</td>\n",
       "      <td>George Popadopoulos Judiciary Committee Transc...</td>\n",
       "      <td>0</td>\n",
       "      <td>georg popadopoulo judiciari committe transcrip...</td>\n",
       "      <td>georg popadopoulo judiciari committe transcrip...</td>\n",
       "    </tr>\n",
       "    <tr>\n",
       "      <th>1</th>\n",
       "      <td>Scientists Will Spray Particles Into the Sky t...</td>\n",
       "      <td>0</td>\n",
       "      <td>Scientists Will Spray Particles Into the Sky t...</td>\n",
       "      <td>0</td>\n",
       "      <td>scientist will spray particl into the ski to b...</td>\n",
       "      <td>scientist will spray particl into the ski to b...</td>\n",
       "    </tr>\n",
       "    <tr>\n",
       "      <th>2</th>\n",
       "      <td>We Are Change confronted Joe Biden in 2007 abo...</td>\n",
       "      <td>0</td>\n",
       "      <td>We Are Change confronted Joe Biden in 2007 abo...</td>\n",
       "      <td>0</td>\n",
       "      <td>We are chang confront joe biden in about hi me...</td>\n",
       "      <td>We are chang confront joe biden in about hi me...</td>\n",
       "    </tr>\n",
       "    <tr>\n",
       "      <th>3</th>\n",
       "      <td>Jeff Sessions swats creepy Uncle Joe's hands away</td>\n",
       "      <td>0</td>\n",
       "      <td>Jeff Sessions swats creepy Uncle Joe's hands away</td>\n",
       "      <td>0</td>\n",
       "      <td>jeff session swat creepi uncl joe s hand away</td>\n",
       "      <td>jeff session swat creepi uncl joe s hand away</td>\n",
       "    </tr>\n",
       "    <tr>\n",
       "      <th>4</th>\n",
       "      <td>NXIVM cultist (🍕 gate) admits to enslaving wom...</td>\n",
       "      <td>0</td>\n",
       "      <td>NXIVM cultist (🍕 gate) admits to enslaving wom...</td>\n",
       "      <td>0</td>\n",
       "      <td>nxivm cultist gate admit to enslav woman for y...</td>\n",
       "      <td>nxivm cultist gate admit to enslav woman for y...</td>\n",
       "    </tr>\n",
       "  </tbody>\n",
       "</table>\n",
       "</div>"
      ],
      "text/plain": [
       "                                               title  cat_nums  \\\n",
       "0  George Popadopoulos Judiciary Committee Transc...         0   \n",
       "1  Scientists Will Spray Particles Into the Sky t...         0   \n",
       "2  We Are Change confronted Joe Biden in 2007 abo...         0   \n",
       "3  Jeff Sessions swats creepy Uncle Joe's hands away         0   \n",
       "4  NXIVM cultist (🍕 gate) admits to enslaving wom...         0   \n",
       "\n",
       "                                            combined  binary_text  \\\n",
       "0  George Popadopoulos Judiciary Committee Transc...            0   \n",
       "1  Scientists Will Spray Particles Into the Sky t...            0   \n",
       "2  We Are Change confronted Joe Biden in 2007 abo...            0   \n",
       "3  Jeff Sessions swats creepy Uncle Joe's hands away            0   \n",
       "4  NXIVM cultist (🍕 gate) admits to enslaving wom...            0   \n",
       "\n",
       "                                       stemmed_title  \\\n",
       "0  georg popadopoulo judiciari committe transcrip...   \n",
       "1  scientist will spray particl into the ski to b...   \n",
       "2  We are chang confront joe biden in about hi me...   \n",
       "3      jeff session swat creepi uncl joe s hand away   \n",
       "4  nxivm cultist gate admit to enslav woman for y...   \n",
       "\n",
       "                                    stemmed_combined  \n",
       "0  georg popadopoulo judiciari committe transcrip...  \n",
       "1  scientist will spray particl into the ski to b...  \n",
       "2  We are chang confront joe biden in about hi me...  \n",
       "3      jeff session swat creepi uncl joe s hand away  \n",
       "4  nxivm cultist gate admit to enslav woman for y...  "
      ]
     },
     "execution_count": 237,
     "metadata": {},
     "output_type": "execute_result"
    }
   ],
   "source": [
    "df.head()"
   ]
  },
  {
   "cell_type": "code",
   "execution_count": 252,
   "metadata": {},
   "outputs": [],
   "source": [
    "# KNN\n",
    "X = df['stemmed_combined']\n",
    "y = df['cat_nums']\n",
    "knn_params = {\n",
    "    'trans__max_features': [1000,5000,7500,10000],\n",
    "#     'trans__ngram_range' : [(1,1),(1,2),(2,2)],\n",
    "    'model__n_neighbors':[2,5,10,20]\n",
    "}\n",
    "model_gs('knn_stem_combined',X,y, KNeighborsClassifier(), transformers, knn_params)"
   ]
  },
  {
   "cell_type": "code",
   "execution_count": 266,
   "metadata": {},
   "outputs": [],
   "source": [
    "# Multinomial Naive Bias\n",
    "X = df['stemmed_combined']\n",
    "y = df['cat_nums']\n",
    "mnb_params = {\n",
    "    'trans__max_features': [5000,7500,10000],\n",
    "#     'trans__ngram_range' : [(1,1),(1,2),(2,2)],\n",
    "    'model__alpha': [.1,.5,1,5]\n",
    "}\n",
    "model_gs('multiNB_stem_comb',X,y, MultinomialNB(), transformers, mnb_params)"
   ]
  },
  {
   "cell_type": "code",
   "execution_count": 220,
   "metadata": {},
   "outputs": [],
   "source": [
    "# Decision Tree\n",
    "X = df['title']\n",
    "y = df['cat_nums']\n",
    "dt_params = {\n",
    "    'trans__max_features': [1000,2000,4500],\n",
    "    'trans__ngram_range' : [(1,1),(1,2),(2,2)],\n",
    "    'model__random_state': [42],\n",
    "    'model__max_depth' : [125],\n",
    "    'model__min_samples_split': [5,7,9]\n",
    "    }\n",
    "model_gs('dt_title_depth_125', X,y, DecisionTreeClassifier(), transformers, dt_params)"
   ]
  },
  {
   "cell_type": "code",
   "execution_count": 98,
   "metadata": {},
   "outputs": [],
   "source": [
    "# Random Forest\n",
    "X = df['title']\n",
    "y = df['cat_nums']\n",
    "rf_params = {\n",
    "    'model__n_estimators': [10,20,50],\n",
    "    'model__max_depth': [None, 3,4,5],\n",
    "    'model__random_state': [42],\n",
    "    'model__max_features': ['auto',]\n",
    "            }\n",
    "model_gs('rf_title', X,y, RandomForestClassifier(), transformers, rf_params)"
   ]
  },
  {
   "cell_type": "code",
   "execution_count": 274,
   "metadata": {},
   "outputs": [],
   "source": [
    "# Bagging on Logistic Regression\n",
    "X = df['stemmed_combined']\n",
    "y = df['cat_nums']\n",
    "model_gs('Logreg w/ bag stem_comb',X,y, BaggingClassifier(LogisticRegression()), transformers, {})"
   ]
  },
  {
   "cell_type": "code",
   "execution_count": 221,
   "metadata": {},
   "outputs": [],
   "source": [
    "# Bagging on Multinomial\n",
    "model_gs('multi NB w/ bag',X,y, BaggingClassifier(MultinomialNB()), transformers, {})"
   ]
  },
  {
   "cell_type": "code",
   "execution_count": 222,
   "metadata": {},
   "outputs": [],
   "source": [
    "# Bagging on Decision Tree\n",
    "model_gs('dt w/ bag',X,y, BaggingClassifier(DecisionTreeClassifier()), transformers, {})"
   ]
  },
  {
   "cell_type": "code",
   "execution_count": 223,
   "metadata": {
    "scrolled": true
   },
   "outputs": [],
   "source": [
    "# Bagging on Random Forest\n",
    "model_gs('rf w/ bag',X,y, BaggingClassifier(RandomForestClassifier()), transformers, {})"
   ]
  },
  {
   "cell_type": "code",
   "execution_count": 275,
   "metadata": {
    "scrolled": true
   },
   "outputs": [],
   "source": [
    "# make it readable for evaluation\n",
    "stats_dict = []\n",
    "for i in details:\n",
    "    stats_dict.append({\n",
    "        'model': i['details'],\n",
    "        'transformer': str(i['transformer'])[:15],\n",
    "        'train_accuracy': i['accuracy_train'],\n",
    "        'test_accuracy': i['accuracy test']\n",
    "        })\n",
    "\n",
    "stat_df = pd.DataFrame(stats_dict)\n",
    "stat_df['dif'] = stat_df['train_accuracy'] - stat_df['test_accuracy'] "
   ]
  },
  {
   "cell_type": "code",
   "execution_count": 276,
   "metadata": {},
   "outputs": [
    {
     "data": {
      "text/html": [
       "<div>\n",
       "<style scoped>\n",
       "    .dataframe tbody tr th:only-of-type {\n",
       "        vertical-align: middle;\n",
       "    }\n",
       "\n",
       "    .dataframe tbody tr th {\n",
       "        vertical-align: top;\n",
       "    }\n",
       "\n",
       "    .dataframe thead th {\n",
       "        text-align: right;\n",
       "    }\n",
       "</style>\n",
       "<table border=\"1\" class=\"dataframe\">\n",
       "  <thead>\n",
       "    <tr style=\"text-align: right;\">\n",
       "      <th></th>\n",
       "      <th>model</th>\n",
       "      <th>test_accuracy</th>\n",
       "      <th>train_accuracy</th>\n",
       "      <th>transformer</th>\n",
       "      <th>dif</th>\n",
       "    </tr>\n",
       "  </thead>\n",
       "  <tbody>\n",
       "    <tr>\n",
       "      <th>0</th>\n",
       "      <td>knn_title</td>\n",
       "      <td>0.841438</td>\n",
       "      <td>0.854725</td>\n",
       "      <td>TfidfVectorizer</td>\n",
       "      <td>0.013287</td>\n",
       "    </tr>\n",
       "    <tr>\n",
       "      <th>1</th>\n",
       "      <td>knn_title</td>\n",
       "      <td>0.718816</td>\n",
       "      <td>0.779267</td>\n",
       "      <td>CountVectorizer</td>\n",
       "      <td>0.060451</td>\n",
       "    </tr>\n",
       "    <tr>\n",
       "      <th>2</th>\n",
       "      <td>knn_combined</td>\n",
       "      <td>0.887949</td>\n",
       "      <td>0.913963</td>\n",
       "      <td>TfidfVectorizer</td>\n",
       "      <td>0.026014</td>\n",
       "    </tr>\n",
       "    <tr>\n",
       "      <th>3</th>\n",
       "      <td>knn_combined</td>\n",
       "      <td>0.623679</td>\n",
       "      <td>0.688293</td>\n",
       "      <td>CountVectorizer</td>\n",
       "      <td>0.064615</td>\n",
       "    </tr>\n",
       "    <tr>\n",
       "      <th>4</th>\n",
       "      <td>knn_stem_title</td>\n",
       "      <td>0.832981</td>\n",
       "      <td>0.888575</td>\n",
       "      <td>TfidfVectorizer</td>\n",
       "      <td>0.055594</td>\n",
       "    </tr>\n",
       "    <tr>\n",
       "      <th>5</th>\n",
       "      <td>knn_stem_title</td>\n",
       "      <td>0.731501</td>\n",
       "      <td>0.811707</td>\n",
       "      <td>CountVectorizer</td>\n",
       "      <td>0.080206</td>\n",
       "    </tr>\n",
       "    <tr>\n",
       "      <th>6</th>\n",
       "      <td>knn_stem_title</td>\n",
       "      <td>0.860465</td>\n",
       "      <td>0.892807</td>\n",
       "      <td>TfidfVectorizer</td>\n",
       "      <td>0.032342</td>\n",
       "    </tr>\n",
       "    <tr>\n",
       "      <th>7</th>\n",
       "      <td>knn_stem_title</td>\n",
       "      <td>0.716702</td>\n",
       "      <td>0.829337</td>\n",
       "      <td>CountVectorizer</td>\n",
       "      <td>0.112635</td>\n",
       "    </tr>\n",
       "    <tr>\n",
       "      <th>8</th>\n",
       "      <td>knn_stem_combined</td>\n",
       "      <td>0.892178</td>\n",
       "      <td>0.916784</td>\n",
       "      <td>TfidfVectorizer</td>\n",
       "      <td>0.024607</td>\n",
       "    </tr>\n",
       "    <tr>\n",
       "      <th>9</th>\n",
       "      <td>knn_stem_combined</td>\n",
       "      <td>0.615222</td>\n",
       "      <td>0.667137</td>\n",
       "      <td>CountVectorizer</td>\n",
       "      <td>0.051915</td>\n",
       "    </tr>\n",
       "    <tr>\n",
       "      <th>10</th>\n",
       "      <td>multiNB_title</td>\n",
       "      <td>0.875264</td>\n",
       "      <td>0.991537</td>\n",
       "      <td>TfidfVectorizer</td>\n",
       "      <td>0.116273</td>\n",
       "    </tr>\n",
       "    <tr>\n",
       "      <th>11</th>\n",
       "      <td>multiNB_title</td>\n",
       "      <td>0.883721</td>\n",
       "      <td>0.989422</td>\n",
       "      <td>CountVectorizer</td>\n",
       "      <td>0.105701</td>\n",
       "    </tr>\n",
       "    <tr>\n",
       "      <th>12</th>\n",
       "      <td>multiNB_combined</td>\n",
       "      <td>0.915433</td>\n",
       "      <td>0.993653</td>\n",
       "      <td>TfidfVectorizer</td>\n",
       "      <td>0.078220</td>\n",
       "    </tr>\n",
       "    <tr>\n",
       "      <th>13</th>\n",
       "      <td>multiNB_combined</td>\n",
       "      <td>0.911205</td>\n",
       "      <td>0.988011</td>\n",
       "      <td>CountVectorizer</td>\n",
       "      <td>0.076806</td>\n",
       "    </tr>\n",
       "    <tr>\n",
       "      <th>14</th>\n",
       "      <td>multiNB_stem_title</td>\n",
       "      <td>0.883721</td>\n",
       "      <td>0.983075</td>\n",
       "      <td>TfidfVectorizer</td>\n",
       "      <td>0.099354</td>\n",
       "    </tr>\n",
       "    <tr>\n",
       "      <th>15</th>\n",
       "      <td>multiNB_stem_title</td>\n",
       "      <td>0.875264</td>\n",
       "      <td>0.979549</td>\n",
       "      <td>CountVectorizer</td>\n",
       "      <td>0.104284</td>\n",
       "    </tr>\n",
       "    <tr>\n",
       "      <th>16</th>\n",
       "      <td>multiNB_stem_comb</td>\n",
       "      <td>0.909091</td>\n",
       "      <td>0.990127</td>\n",
       "      <td>TfidfVectorizer</td>\n",
       "      <td>0.081036</td>\n",
       "    </tr>\n",
       "    <tr>\n",
       "      <th>17</th>\n",
       "      <td>multiNB_stem_comb</td>\n",
       "      <td>0.921776</td>\n",
       "      <td>0.982370</td>\n",
       "      <td>CountVectorizer</td>\n",
       "      <td>0.060594</td>\n",
       "    </tr>\n",
       "    <tr>\n",
       "      <th>18</th>\n",
       "      <td>Logreg w/ bag</td>\n",
       "      <td>0.852008</td>\n",
       "      <td>0.980959</td>\n",
       "      <td>TfidfVectorizer</td>\n",
       "      <td>0.128951</td>\n",
       "    </tr>\n",
       "    <tr>\n",
       "      <th>19</th>\n",
       "      <td>Logreg w/ bag</td>\n",
       "      <td>0.849894</td>\n",
       "      <td>0.989422</td>\n",
       "      <td>CountVectorizer</td>\n",
       "      <td>0.139527</td>\n",
       "    </tr>\n",
       "    <tr>\n",
       "      <th>20</th>\n",
       "      <td>Logreg w/ bag combined</td>\n",
       "      <td>0.917548</td>\n",
       "      <td>0.982370</td>\n",
       "      <td>TfidfVectorizer</td>\n",
       "      <td>0.064822</td>\n",
       "    </tr>\n",
       "    <tr>\n",
       "      <th>21</th>\n",
       "      <td>Logreg w/ bag combined</td>\n",
       "      <td>0.887949</td>\n",
       "      <td>0.985896</td>\n",
       "      <td>CountVectorizer</td>\n",
       "      <td>0.097946</td>\n",
       "    </tr>\n",
       "    <tr>\n",
       "      <th>22</th>\n",
       "      <td>Logreg w/ bag stem_title</td>\n",
       "      <td>0.866808</td>\n",
       "      <td>0.969676</td>\n",
       "      <td>TfidfVectorizer</td>\n",
       "      <td>0.102868</td>\n",
       "    </tr>\n",
       "    <tr>\n",
       "      <th>23</th>\n",
       "      <td>Logreg w/ bag stem_title</td>\n",
       "      <td>0.845666</td>\n",
       "      <td>0.983780</td>\n",
       "      <td>CountVectorizer</td>\n",
       "      <td>0.138114</td>\n",
       "    </tr>\n",
       "    <tr>\n",
       "      <th>24</th>\n",
       "      <td>Logreg w/ bag stem_comb</td>\n",
       "      <td>0.915433</td>\n",
       "      <td>0.976023</td>\n",
       "      <td>TfidfVectorizer</td>\n",
       "      <td>0.060589</td>\n",
       "    </tr>\n",
       "    <tr>\n",
       "      <th>25</th>\n",
       "      <td>Logreg w/ bag stem_comb</td>\n",
       "      <td>0.906977</td>\n",
       "      <td>0.982370</td>\n",
       "      <td>CountVectorizer</td>\n",
       "      <td>0.075393</td>\n",
       "    </tr>\n",
       "  </tbody>\n",
       "</table>\n",
       "</div>"
      ],
      "text/plain": [
       "                       model  test_accuracy  train_accuracy      transformer  \\\n",
       "0                  knn_title       0.841438        0.854725  TfidfVectorizer   \n",
       "1                  knn_title       0.718816        0.779267  CountVectorizer   \n",
       "2               knn_combined       0.887949        0.913963  TfidfVectorizer   \n",
       "3               knn_combined       0.623679        0.688293  CountVectorizer   \n",
       "4             knn_stem_title       0.832981        0.888575  TfidfVectorizer   \n",
       "5             knn_stem_title       0.731501        0.811707  CountVectorizer   \n",
       "6             knn_stem_title       0.860465        0.892807  TfidfVectorizer   \n",
       "7             knn_stem_title       0.716702        0.829337  CountVectorizer   \n",
       "8          knn_stem_combined       0.892178        0.916784  TfidfVectorizer   \n",
       "9          knn_stem_combined       0.615222        0.667137  CountVectorizer   \n",
       "10             multiNB_title       0.875264        0.991537  TfidfVectorizer   \n",
       "11             multiNB_title       0.883721        0.989422  CountVectorizer   \n",
       "12          multiNB_combined       0.915433        0.993653  TfidfVectorizer   \n",
       "13          multiNB_combined       0.911205        0.988011  CountVectorizer   \n",
       "14        multiNB_stem_title       0.883721        0.983075  TfidfVectorizer   \n",
       "15        multiNB_stem_title       0.875264        0.979549  CountVectorizer   \n",
       "16         multiNB_stem_comb       0.909091        0.990127  TfidfVectorizer   \n",
       "17         multiNB_stem_comb       0.921776        0.982370  CountVectorizer   \n",
       "18             Logreg w/ bag       0.852008        0.980959  TfidfVectorizer   \n",
       "19             Logreg w/ bag       0.849894        0.989422  CountVectorizer   \n",
       "20    Logreg w/ bag combined       0.917548        0.982370  TfidfVectorizer   \n",
       "21    Logreg w/ bag combined       0.887949        0.985896  CountVectorizer   \n",
       "22  Logreg w/ bag stem_title       0.866808        0.969676  TfidfVectorizer   \n",
       "23  Logreg w/ bag stem_title       0.845666        0.983780  CountVectorizer   \n",
       "24   Logreg w/ bag stem_comb       0.915433        0.976023  TfidfVectorizer   \n",
       "25   Logreg w/ bag stem_comb       0.906977        0.982370  CountVectorizer   \n",
       "\n",
       "         dif  \n",
       "0   0.013287  \n",
       "1   0.060451  \n",
       "2   0.026014  \n",
       "3   0.064615  \n",
       "4   0.055594  \n",
       "5   0.080206  \n",
       "6   0.032342  \n",
       "7   0.112635  \n",
       "8   0.024607  \n",
       "9   0.051915  \n",
       "10  0.116273  \n",
       "11  0.105701  \n",
       "12  0.078220  \n",
       "13  0.076806  \n",
       "14  0.099354  \n",
       "15  0.104284  \n",
       "16  0.081036  \n",
       "17  0.060594  \n",
       "18  0.128951  \n",
       "19  0.139527  \n",
       "20  0.064822  \n",
       "21  0.097946  \n",
       "22  0.102868  \n",
       "23  0.138114  \n",
       "24  0.060589  \n",
       "25  0.075393  "
      ]
     },
     "execution_count": 276,
     "metadata": {},
     "output_type": "execute_result"
    }
   ],
   "source": [
    "stat_df"
   ]
  },
  {
   "cell_type": "code",
   "execution_count": 67,
   "metadata": {},
   "outputs": [],
   "source": [
    "# Function we wrote together in class\n",
    "def estimators(conf_matrix):\n",
    "    tn, fp, fn, tp = conf_matrix.ravel()\n",
    "    acuracy = (tp + tn) / (tp + fp + fn + tn)\n",
    "    recall = tp / (tp + fn)\n",
    "    precision = tp / (tp + fp)\n",
    "    print(f'Accuracy is: {acuracy}\\nRecall is: {recall}\\nPrecision is: {precision}\\n')"
   ]
  },
  {
   "cell_type": "code",
   "execution_count": 281,
   "metadata": {},
   "outputs": [],
   "source": [
    "# test train to measure metrics below outside of function\n",
    "X_train, X_test, y_train, y_test =train_test_split(X,y,\n",
    "                                                   random_state =25,\n",
    "                                                        stratify = y)"
   ]
  },
  {
   "cell_type": "code",
   "execution_count": 283,
   "metadata": {},
   "outputs": [
    {
     "name": "stdout",
     "output_type": "stream",
     "text": [
      "Accuracy is: 0.9217758985200846\n",
      "Recall is: 0.956\n",
      "Precision is: 0.9018867924528302\n",
      "\n"
     ]
    }
   ],
   "source": [
    "# further metrics on top 3 models\n",
    "mnb = details[17]['best_est']\n",
    "y_preds = mnb.predict(X_test)\n",
    "mnb_matrix = confusion_matrix(y_test, y_preds)\n",
    "estimators(mnb_matrix)"
   ]
  },
  {
   "cell_type": "code",
   "execution_count": 72,
   "metadata": {
    "scrolled": true
   },
   "outputs": [
    {
     "name": "stdout",
     "output_type": "stream",
     "text": [
      "Accuracy is: 0.8604651162790697\n",
      "Recall is: 0.876\n",
      "Precision is: 0.8622047244094488\n",
      "\n"
     ]
    }
   ],
   "source": [
    "lr = details[0]['best_est']\n",
    "y_preds = lr.predict(X_test)\n",
    "lr_matrix = confusion_matrix(y_test, y_preds).ravel()\n",
    "estimators(lr_matrix)"
   ]
  },
  {
   "cell_type": "code",
   "execution_count": 262,
   "metadata": {
    "scrolled": true
   },
   "outputs": [
    {
     "name": "stdout",
     "output_type": "stream",
     "text": [
      "Accuracy is: 0.7970401691331924\n",
      "Recall is: 0.9\n",
      "Precision is: 0.7601351351351351\n",
      "\n"
     ]
    }
   ],
   "source": [
    "knn = details[8]['best_est']\n",
    "y_preds = knn.predict(X_test)\n",
    "knn_matrix = confusion_matrix(y_test, y_preds)\n",
    "estimators(knn_matrix)"
   ]
  },
  {
   "cell_type": "code",
   "execution_count": 288,
   "metadata": {},
   "outputs": [],
   "source": [
    "vect = lr.named_steps['trans']\n",
    "feature_names = np.array(vect.get_feature_names())\n",
    "coef = lr.named_steps['model'].coef_"
   ]
  },
  {
   "cell_type": "code",
   "execution_count": 298,
   "metadata": {
    "scrolled": false
   },
   "outputs": [
    {
     "data": {
      "text/plain": [
       "<Figure size 3000x2000 with 0 Axes>"
      ]
     },
     "metadata": {},
     "output_type": "display_data"
    },
    {
     "data": {
      "image/png": "[encoded data removed]",
      "text/plain": [
       "<Figure size 1080x360 with 1 Axes>"
      ]
     },
     "metadata": {
      "needs_background": "light"
     },
     "output_type": "display_data"
    }
   ],
   "source": [
    "# plost of coeficients on Logreg / max & min 7\n",
    "plt.figure(dpi=500)\n",
    "mglearn.tools.visualize_coefficients(coef, feature_names, n_top_features=7);"
   ]
  },
  {
   "cell_type": "code",
   "execution_count": null,
   "metadata": {},
   "outputs": [],
   "source": []
  }
 ],
 "metadata": {
  "kernelspec": {
   "display_name": "Python 3",
   "language": "python",
   "name": "python3"
  },
  "language_info": {
   "codemirror_mode": {
    "name": "ipython",
    "version": 3
   },
   "file_extension": ".py",
   "mimetype": "text/x-python",
   "name": "python",
   "nbconvert_exporter": "python",
   "pygments_lexer": "ipython3",
   "version": "3.6.8"
  }
 },
 "nbformat": 4,
 "nbformat_minor": 2
}
